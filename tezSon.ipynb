{
 "cells": [
  {
   "cell_type": "code",
   "execution_count": 1,
   "id": "892e2bf6",
   "metadata": {
    "scrolled": true
   },
   "outputs": [
    {
     "name": "stdout",
     "output_type": "stream",
     "text": [
      "Requirement already satisfied: PyPDF2 in c:\\users\\ozent\\anaconda3\\lib\\site-packages (3.0.1)\n",
      "Note: you may need to restart the kernel to use updated packages.\n"
     ]
    }
   ],
   "source": [
    "pip install PyPDF2"
   ]
  },
  {
   "cell_type": "code",
   "execution_count": 2,
   "id": "a21afe1b",
   "metadata": {},
   "outputs": [
    {
     "name": "stdout",
     "output_type": "stream",
     "text": [
      "Requirement already satisfied: PyPDF2 in c:\\users\\ozent\\anaconda3\\lib\\site-packages (3.0.1)\n",
      "Note: you may need to restart the kernel to use updated packages.\n"
     ]
    }
   ],
   "source": [
    "pip install PyPDF2"
   ]
  },
  {
   "cell_type": "code",
   "execution_count": 2,
   "id": "166d9b29",
   "metadata": {},
   "outputs": [
    {
     "name": "stdout",
     "output_type": "stream",
     "text": [
      "Requirement already satisfied: WordCloud in c:\\users\\ozent\\anaconda3\\lib\\site-packages (1.9.3)\n",
      "Requirement already satisfied: numpy>=1.6.1 in c:\\users\\ozent\\anaconda3\\lib\\site-packages (from WordCloud) (1.24.3)\n",
      "Requirement already satisfied: pillow in c:\\users\\ozent\\anaconda3\\lib\\site-packages (from WordCloud) (9.4.0)\n",
      "Requirement already satisfied: matplotlib in c:\\users\\ozent\\anaconda3\\lib\\site-packages (from WordCloud) (3.7.1)\n",
      "Requirement already satisfied: contourpy>=1.0.1 in c:\\users\\ozent\\anaconda3\\lib\\site-packages (from matplotlib->WordCloud) (1.0.5)\n",
      "Requirement already satisfied: cycler>=0.10 in c:\\users\\ozent\\anaconda3\\lib\\site-packages (from matplotlib->WordCloud) (0.11.0)\n",
      "Requirement already satisfied: fonttools>=4.22.0 in c:\\users\\ozent\\anaconda3\\lib\\site-packages (from matplotlib->WordCloud) (4.25.0)\n",
      "Requirement already satisfied: kiwisolver>=1.0.1 in c:\\users\\ozent\\anaconda3\\lib\\site-packages (from matplotlib->WordCloud) (1.4.4)\n",
      "Requirement already satisfied: packaging>=20.0 in c:\\users\\ozent\\anaconda3\\lib\\site-packages (from matplotlib->WordCloud) (23.0)\n",
      "Requirement already satisfied: pyparsing>=2.3.1 in c:\\users\\ozent\\anaconda3\\lib\\site-packages (from matplotlib->WordCloud) (3.0.9)\n",
      "Requirement already satisfied: python-dateutil>=2.7 in c:\\users\\ozent\\anaconda3\\lib\\site-packages (from matplotlib->WordCloud) (2.8.2)\n",
      "Requirement already satisfied: six>=1.5 in c:\\users\\ozent\\anaconda3\\lib\\site-packages (from python-dateutil>=2.7->matplotlib->WordCloud) (1.16.0)\n",
      "Note: you may need to restart the kernel to use updated packages.\n"
     ]
    }
   ],
   "source": [
    "pip install WordCloud"
   ]
  },
  {
   "cell_type": "code",
   "execution_count": 3,
   "id": "d72f816d",
   "metadata": {},
   "outputs": [],
   "source": [
    "import PyPDF2\n",
    "import re\n",
    "import pandas as pd\n",
    "import os\n",
    "from wordcloud import WordCloud"
   ]
  },
  {
   "cell_type": "code",
   "execution_count": 30,
   "id": "2b5ef644",
   "metadata": {},
   "outputs": [],
   "source": [
    "#import numpy as np\n",
    "#import matplotlib.pyplot as plt"
   ]
  },
  {
   "cell_type": "code",
   "execution_count": 31,
   "id": "5ca4cdac",
   "metadata": {},
   "outputs": [
    {
     "ename": "FileNotFoundError",
     "evalue": "[Errno 2] No such file or directory: 'C://Users//ozent//OneDrive//Masaüstü//yontemList.pdf'",
     "output_type": "error",
     "traceback": [
      "\u001b[1;31m---------------------------------------------------------------------------\u001b[0m",
      "\u001b[1;31mFileNotFoundError\u001b[0m                         Traceback (most recent call last)",
      "Cell \u001b[1;32mIn[31], line 2\u001b[0m\n\u001b[0;32m      1\u001b[0m \u001b[38;5;66;03m#pdfMethodFileObj = open(\"C://Users//ozent//OneDrive//Masaüstü//yontemListe.pdf\", 'rb')\u001b[39;00m\n\u001b[1;32m----> 2\u001b[0m pdfMethodFileObj \u001b[38;5;241m=\u001b[39m \u001b[38;5;28mopen\u001b[39m(\u001b[38;5;124m\"\u001b[39m\u001b[38;5;124mC://Users//ozent//OneDrive//Masaüstü//yontemList.pdf\u001b[39m\u001b[38;5;124m\"\u001b[39m, \u001b[38;5;124m'\u001b[39m\u001b[38;5;124mrb\u001b[39m\u001b[38;5;124m'\u001b[39m)\n\u001b[0;32m      3\u001b[0m pdfText \u001b[38;5;241m=\u001b[39m PyPDF2\u001b[38;5;241m.\u001b[39mPdfReader(pdfMethodFileObj)\n\u001b[0;32m      4\u001b[0m \u001b[38;5;28;01mfor\u001b[39;00m page \u001b[38;5;129;01min\u001b[39;00m pdfText\u001b[38;5;241m.\u001b[39mpages:\n",
      "File \u001b[1;32m~\\anaconda3\\Lib\\site-packages\\IPython\\core\\interactiveshell.py:284\u001b[0m, in \u001b[0;36m_modified_open\u001b[1;34m(file, *args, **kwargs)\u001b[0m\n\u001b[0;32m    277\u001b[0m \u001b[38;5;28;01mif\u001b[39;00m file \u001b[38;5;129;01min\u001b[39;00m {\u001b[38;5;241m0\u001b[39m, \u001b[38;5;241m1\u001b[39m, \u001b[38;5;241m2\u001b[39m}:\n\u001b[0;32m    278\u001b[0m     \u001b[38;5;28;01mraise\u001b[39;00m \u001b[38;5;167;01mValueError\u001b[39;00m(\n\u001b[0;32m    279\u001b[0m         \u001b[38;5;124mf\u001b[39m\u001b[38;5;124m\"\u001b[39m\u001b[38;5;124mIPython won\u001b[39m\u001b[38;5;124m'\u001b[39m\u001b[38;5;124mt let you open fd=\u001b[39m\u001b[38;5;132;01m{\u001b[39;00mfile\u001b[38;5;132;01m}\u001b[39;00m\u001b[38;5;124m by default \u001b[39m\u001b[38;5;124m\"\u001b[39m\n\u001b[0;32m    280\u001b[0m         \u001b[38;5;124m\"\u001b[39m\u001b[38;5;124mas it is likely to crash IPython. If you know what you are doing, \u001b[39m\u001b[38;5;124m\"\u001b[39m\n\u001b[0;32m    281\u001b[0m         \u001b[38;5;124m\"\u001b[39m\u001b[38;5;124myou can use builtins\u001b[39m\u001b[38;5;124m'\u001b[39m\u001b[38;5;124m open.\u001b[39m\u001b[38;5;124m\"\u001b[39m\n\u001b[0;32m    282\u001b[0m     )\n\u001b[1;32m--> 284\u001b[0m \u001b[38;5;28;01mreturn\u001b[39;00m io_open(file, \u001b[38;5;241m*\u001b[39margs, \u001b[38;5;241m*\u001b[39m\u001b[38;5;241m*\u001b[39mkwargs)\n",
      "\u001b[1;31mFileNotFoundError\u001b[0m: [Errno 2] No such file or directory: 'C://Users//ozent//OneDrive//Masaüstü//yontemList.pdf'"
     ]
    }
   ],
   "source": [
    "#pdfMethodFileObj = open(\"C://Users//ozent//OneDrive//Masaüstü//yontemListe.pdf\", 'rb')\n",
    "pdfMethodFileObj = open(\"C://Users//ozent//OneDrive//Masaüstü//yontemList.pdf\", 'rb')\n",
    "pdfText = PyPDF2.PdfReader(pdfMethodFileObj)\n",
    "for page in pdfText.pages:\n",
    "    kelimeListesi = page.extract_text()\n",
    "kelimeListesi = kelimeListesi.split(',')\n",
    "kelimeListesi"
   ]
  },
  {
   "cell_type": "code",
   "execution_count": 24,
   "id": "a2c8b99a",
   "metadata": {},
   "outputs": [],
   "source": [
    "#kelimeListesi=['anova','ancova','manova','bland-altman','bland altman','anderson-darling','anderson darling','anderson','regresyon analizi','panel veri analizi','freeman halton','kanonik korelasyon','ki-kare','ki kare','dairesel veri','kümeleme analizi','uyum analizi','cox regresyon','tanı test','diskriminant','faktör analizi','genel doğrusal model','glmm','madde analizi','kaplan-meier','kaplan meier','kolmogorov','kolmogorov-smirnov','kolmogorov smirnov','kaiser-meyer-olkin','kaiser meyer olkin','kruskal-wallis','kruskal wallis','bartlett','yaşam tablosu analizi','doğrusal programlama','lmm','lojistik regresyon','logrank','mann-whitney','mann whitney','whitney','mantel-haenszel','mantel haenszel','haenszel','mcnemar','meta analiz','çok boyutlu ölçekleme','çoklu regresyon','doğrusal olmayan regresyon','pearson','pearson korelasyon','temel bileşenler analizi','temel bileşenler regresyon','probit analiz','ridge regresyon','robust regresyon','roc analiz','roc eğrisi','shapiro-wilk','shapiro wilk','shapiro','spearman','zaman serileri analizi','trend analizi','odds oranı','odds ratio','t testi','t-testi','z testi','z-testi','f testi','f-testi','wald-wolfowitz','wald wolfowitz','wolfowitz','wilcoxon','yapay sinir ağları','destek vektör makinesi','genetik algoritma','naive bayes','en yakın komşu','knn','k-nn','karar ağaçları','bulanık kümeleme','k-ortalama','medoid','hiyerarşik kümeleme','yoğunluk tabanlı kümeleme','ikili kümeleme','birliktelik kuralları','birliktelik analizi','özellik çıkarımı','sınıflandırma yöntem','rasgele orman','box-jenkins','box jenkins','güvenilirlik analizi','cochran’s q','cochran q','cochran','dunn','friedman','fisher’s exact','fisher exact','fisher kesin','fisher','hotelling t','hotelling’s t','hotelling','kendall’s tau','kendall tau','basıklık ve çarpıklık','skewness ve kurtosis','cronbach alfa','cronbach alpha','cronbach’s alfa','cronbach’s alpha','r studio','spss','stata','ncss','minitab','python','jamovi','matlab','knime','weka','rapidminer','rapid miner','angoss']"
   ]
  },
  {
   "cell_type": "code",
   "execution_count": 38,
   "id": "57faabc9",
   "metadata": {},
   "outputs": [],
   "source": [
    "kelimeListesi=['anova','ancova','manova','bland-altman','regression analysis','panel data analysis','freeman halton','canonical correlation','chi-square','circular data','cluster analysis','correspondence analysis','cox regression','diagnostic test','discriminant','factor analysis','general linear model','glmm','item analysis','kaplan-meier','kaplan meier','meier','kolmogorov','kolmogorov-smirnov','kolomogorov smirnov','kaiser-meyer-olkin','kaiser meyer olkin','kaiser','kruskal-wallis','kruskal wallis','kruskal','bartlett','life table analysis','linear programming','lmm','lojistic regression','logrank','mann-whitney','mann whitney','whitney','mantel-haenszel','mantel haenszel','haenszel','mcnemar','meta analysis','multidimensional scaling','multiple regression','nonlinear regression','pearson','pearson correlation','principal components analysis','principal components regression','probit analysis','ridge regression','robust regression','roc analysis','roc curve','shapiro-wilk','shapiro wilk','shapiro','spearman','time series analysis','trend analysis','odds ratio','t test','t-test','z test','z-test','f test','f-test','wald-wolfowitz','wald wolfowitz','wolfowitz','wilcoxon','artificial neural network','support vector machine','genetic algorithm','naive bayes','nearest neighbor','knn','k-nn','decision tree','fuzzy clustering','k-means','medoid','hierarchical clustering','density based clustering','biclustering','association rules','association analysis','feature extraction','classification method','random forest','box-jenkins','box jenkins','reliability analysis','cochran’s q','cochran q','cochran','dunn','friedman','fisher’s exact','fisher exact','fisher','hotelling t','hotelling’s t','hotelling','kendall’s tau','kendall tau','skewness and kurtosis','cronbach alpha','cronbach’s alpha','r studio','spss','stata','ncss','minitab','python','jamovi','matlab','knime','weka','rapidminer','rapid miner','angoss']"
   ]
  },
  {
   "cell_type": "code",
   "execution_count": 48,
   "id": "293207c5",
   "metadata": {},
   "outputs": [],
   "source": [
    "path = \"C://Users//ozent//OneDrive//Masaüstü//dergiParkPDFDosyasi\"\n",
    "#path = \"C://Users//ozent//OneDrive//Masaüstü//pubmedPDFDosyasi\"\n",
    "list_path = []\n",
    "for(root, dirs, file) in os.walk(path):\n",
    "    for f in file:\n",
    "        if'.pdf' in f:\n",
    "            list_path.append(\"C://Users//ozent//OneDrive//Masaüstü//dergiParkPDFDosyasi//\" + f)"
   ]
  },
  {
   "cell_type": "code",
   "execution_count": 49,
   "id": "0f5dffd5",
   "metadata": {},
   "outputs": [
    {
     "name": "stdout",
     "output_type": "stream",
     "text": [
      "['C://Users//ozent//OneDrive//Masaüstü//dergiParkPDFDosyasi//10.21020-husbfd.1080741-2281530.pdf', 'C://Users//ozent//OneDrive//Masaüstü//dergiParkPDFDosyasi//__N__VERS__TE ____RENC__LER__N__N S__BERKONDR__ D__ZEYLER__N__N SA__LIK KAYGISI __ZER__NE ETK__S__N__N __NCELENMES__[#1221036]-2839815.pdf']\n"
     ]
    }
   ],
   "source": [
    "print(list_path)"
   ]
  },
  {
   "cell_type": "code",
   "execution_count": 50,
   "id": "78f8a72e",
   "metadata": {
    "scrolled": true
   },
   "outputs": [
    {
     "data": {
      "text/html": [
       "<div>\n",
       "<style scoped>\n",
       "    .dataframe tbody tr th:only-of-type {\n",
       "        vertical-align: middle;\n",
       "    }\n",
       "\n",
       "    .dataframe tbody tr th {\n",
       "        vertical-align: top;\n",
       "    }\n",
       "\n",
       "    .dataframe thead th {\n",
       "        text-align: right;\n",
       "    }\n",
       "</style>\n",
       "<table border=\"1\" class=\"dataframe\">\n",
       "  <thead>\n",
       "    <tr style=\"text-align: right;\">\n",
       "      <th></th>\n",
       "      <th>anova</th>\n",
       "      <th>ancova</th>\n",
       "      <th>manova</th>\n",
       "      <th>bland-altman</th>\n",
       "      <th>regression analysis</th>\n",
       "      <th>panel data analysis</th>\n",
       "      <th>freeman halton</th>\n",
       "      <th>canonical correlation</th>\n",
       "      <th>chi-square</th>\n",
       "      <th>circular data</th>\n",
       "      <th>...</th>\n",
       "      <th>ncss</th>\n",
       "      <th>minitab</th>\n",
       "      <th>python</th>\n",
       "      <th>jamovi</th>\n",
       "      <th>matlab</th>\n",
       "      <th>knime</th>\n",
       "      <th>weka</th>\n",
       "      <th>rapidminer</th>\n",
       "      <th>rapid miner</th>\n",
       "      <th>angoss</th>\n",
       "    </tr>\n",
       "  </thead>\n",
       "  <tbody>\n",
       "  </tbody>\n",
       "</table>\n",
       "<p>0 rows × 125 columns</p>\n",
       "</div>"
      ],
      "text/plain": [
       "Empty DataFrame\n",
       "Columns: [anova, ancova, manova, bland-altman, regression analysis, panel data analysis, freeman halton, canonical correlation, chi-square, circular data, cluster analysis, correspondence analysis, cox regression, diagnostic test, discriminant, factor analysis, general linear model, glmm, item analysis, kaplan-meier, kaplan meier, meier, kolmogorov, kolmogorov-smirnov, kolomogorov smirnov, kaiser-meyer-olkin, kaiser meyer olkin, kaiser, kruskal-wallis, kruskal wallis, kruskal, bartlett, life table analysis, linear programming, lmm, lojistic regression, logrank, mann-whitney, mann whitney, whitney, mantel-haenszel, mantel haenszel, haenszel, mcnemar, meta analysis, multidimensional scaling, multiple regression, nonlinear regression, pearson, pearson correlation, principal components analysis, principal components regression, probit analysis, ridge regression, robust regression, roc analysis, roc curve, shapiro-wilk, shapiro wilk, shapiro, spearman, time series analysis, trend analysis, odds ratio, t test, t-test, z test, z-test, f test, f-test, wald-wolfowitz, wald wolfowitz, wolfowitz, wilcoxon, artificial neural network, support vector machine, genetic algorithm, naive bayes, nearest neighbor, knn, k-nn, decision tree, fuzzy clustering, k-means, medoid, hierarchical clustering, density based clustering, biclustering, association rules, association analysis, feature extraction, classification method, random forest, box-jenkins, box jenkins, reliability analysis, cochran’s q, cochran q, cochran, dunn, ...]\n",
       "Index: []\n",
       "\n",
       "[0 rows x 125 columns]"
      ]
     },
     "execution_count": 50,
     "metadata": {},
     "output_type": "execute_result"
    }
   ],
   "source": [
    "df = pd.DataFrame(columns = kelimeListesi)\n",
    "df"
   ]
  },
  {
   "cell_type": "code",
   "execution_count": 51,
   "id": "67351c66",
   "metadata": {},
   "outputs": [],
   "source": [
    "df.insert(loc=(len(kelimeListesi)),\n",
    "          column='Dosya Adı',\n",
    "          value=\"\")"
   ]
  },
  {
   "cell_type": "code",
   "execution_count": 52,
   "id": "8e16c7bd",
   "metadata": {},
   "outputs": [],
   "source": [
    "df.insert(loc=(len(kelimeListesi)+1),\n",
    "          column='Yöntem / Yazılım',\n",
    "          value=\"\")"
   ]
  },
  {
   "cell_type": "code",
   "execution_count": 53,
   "id": "224fe739",
   "metadata": {
    "scrolled": true
   },
   "outputs": [
    {
     "name": "stdout",
     "output_type": "stream",
     "text": [
      "Empty DataFrame\n",
      "Columns: [anova, ancova, manova, bland-altman, regression analysis, panel data analysis, freeman halton, canonical correlation, chi-square, circular data, cluster analysis, correspondence analysis, cox regression, diagnostic test, discriminant, factor analysis, general linear model, glmm, item analysis, kaplan-meier, kaplan meier, meier, kolmogorov, kolmogorov-smirnov, kolomogorov smirnov, kaiser-meyer-olkin, kaiser meyer olkin, kaiser, kruskal-wallis, kruskal wallis, kruskal, bartlett, life table analysis, linear programming, lmm, lojistic regression, logrank, mann-whitney, mann whitney, whitney, mantel-haenszel, mantel haenszel, haenszel, mcnemar, meta analysis, multidimensional scaling, multiple regression, nonlinear regression, pearson, pearson correlation, principal components analysis, principal components regression, probit analysis, ridge regression, robust regression, roc analysis, roc curve, shapiro-wilk, shapiro wilk, shapiro, spearman, time series analysis, trend analysis, odds ratio, t test, t-test, z test, z-test, f test, f-test, wald-wolfowitz, wald wolfowitz, wolfowitz, wilcoxon, artificial neural network, support vector machine, genetic algorithm, naive bayes, nearest neighbor, knn, k-nn, decision tree, fuzzy clustering, k-means, medoid, hierarchical clustering, density based clustering, biclustering, association rules, association analysis, feature extraction, classification method, random forest, box-jenkins, box jenkins, reliability analysis, cochran’s q, cochran q, cochran, dunn, ...]\n",
      "Index: []\n",
      "\n",
      "[0 rows x 127 columns]\n"
     ]
    }
   ],
   "source": [
    "print(df)"
   ]
  },
  {
   "cell_type": "code",
   "execution_count": 54,
   "id": "5c0bb2cb",
   "metadata": {},
   "outputs": [],
   "source": [
    "def wordExist(liste, x, pdf):\n",
    "    path = None\n",
    "    array = []\n",
    "    arrayBulunanYontem = []\n",
    "    basename = os.path.basename(x)[:-4]\n",
    "    for word in liste:\n",
    "        index = 0\n",
    "        for page in pdf.pages:\n",
    "            text = page.extract_text() \n",
    "            text=text.lower()            \n",
    "            res_search = re.search(word, text)\n",
    "            if word in text:\n",
    "                index = 1\n",
    "                break\n",
    "            else:\n",
    "                index = 0\n",
    "        if(index==1):\n",
    "            arrayBulunanYontem.append(word)     \n",
    "        array.append(index)\n",
    "    array.append(basename)\n",
    "    array.append(arrayBulunanYontem)\n",
    "    df.loc[len(df)] = array"
   ]
  },
  {
   "cell_type": "code",
   "execution_count": 55,
   "id": "7f4df824",
   "metadata": {},
   "outputs": [],
   "source": [
    "def pdfAc(liste_adı):\n",
    "    tur = 0\n",
    "    for x in list_path:\n",
    "        tur +=1\n",
    "        pdfFileObj = open(x, 'rb')\n",
    "        pdf = PyPDF2.PdfReader(pdfFileObj)\n",
    "        wordExist(kelimeListesi,x,pdf)\n",
    "        print(\"TAMAMLANAN PDF SAYISI\")\n",
    "        print(tur)\n",
    "        print(\"********\")"
   ]
  },
  {
   "cell_type": "code",
   "execution_count": 56,
   "id": "a7fe7eb3",
   "metadata": {
    "scrolled": false
   },
   "outputs": [
    {
     "name": "stdout",
     "output_type": "stream",
     "text": [
      "TAMAMLANAN PDF SAYISI\n",
      "1\n",
      "*************************************************************************\n",
      "TAMAMLANAN PDF SAYISI\n",
      "2\n",
      "*************************************************************************\n"
     ]
    }
   ],
   "source": [
    "pdfAc(list)"
   ]
  },
  {
   "cell_type": "code",
   "execution_count": 63,
   "id": "3a5e8213",
   "metadata": {
    "scrolled": false
   },
   "outputs": [
    {
     "data": {
      "text/html": [
       "<div>\n",
       "<style scoped>\n",
       "    .dataframe tbody tr th:only-of-type {\n",
       "        vertical-align: middle;\n",
       "    }\n",
       "\n",
       "    .dataframe tbody tr th {\n",
       "        vertical-align: top;\n",
       "    }\n",
       "\n",
       "    .dataframe thead th {\n",
       "        text-align: right;\n",
       "    }\n",
       "</style>\n",
       "<table border=\"1\" class=\"dataframe\">\n",
       "  <thead>\n",
       "    <tr style=\"text-align: right;\">\n",
       "      <th></th>\n",
       "      <th>anova</th>\n",
       "      <th>ancova</th>\n",
       "      <th>manova</th>\n",
       "      <th>bland-altman</th>\n",
       "      <th>regression analysis</th>\n",
       "      <th>panel data analysis</th>\n",
       "      <th>freeman halton</th>\n",
       "      <th>canonical correlation</th>\n",
       "      <th>chi-square</th>\n",
       "      <th>circular data</th>\n",
       "      <th>...</th>\n",
       "      <th>python</th>\n",
       "      <th>jamovi</th>\n",
       "      <th>matlab</th>\n",
       "      <th>knime</th>\n",
       "      <th>weka</th>\n",
       "      <th>rapidminer</th>\n",
       "      <th>rapid miner</th>\n",
       "      <th>angoss</th>\n",
       "      <th>Dosya Adı</th>\n",
       "      <th>Yöntem / Yazılım</th>\n",
       "    </tr>\n",
       "  </thead>\n",
       "  <tbody>\n",
       "    <tr>\n",
       "      <th>0</th>\n",
       "      <td>1.0</td>\n",
       "      <td>0.0</td>\n",
       "      <td>0.0</td>\n",
       "      <td>0.0</td>\n",
       "      <td>0.0</td>\n",
       "      <td>0.0</td>\n",
       "      <td>0.0</td>\n",
       "      <td>0.0</td>\n",
       "      <td>0.0</td>\n",
       "      <td>0.0</td>\n",
       "      <td>...</td>\n",
       "      <td>0.0</td>\n",
       "      <td>0.0</td>\n",
       "      <td>0.0</td>\n",
       "      <td>0.0</td>\n",
       "      <td>0.0</td>\n",
       "      <td>0.0</td>\n",
       "      <td>0.0</td>\n",
       "      <td>0.0</td>\n",
       "      <td>10.21020-husbfd.1080741-2281530</td>\n",
       "      <td>[anova, kruskal, pearson, spss]</td>\n",
       "    </tr>\n",
       "    <tr>\n",
       "      <th>1</th>\n",
       "      <td>1.0</td>\n",
       "      <td>0.0</td>\n",
       "      <td>0.0</td>\n",
       "      <td>0.0</td>\n",
       "      <td>0.0</td>\n",
       "      <td>0.0</td>\n",
       "      <td>0.0</td>\n",
       "      <td>0.0</td>\n",
       "      <td>0.0</td>\n",
       "      <td>0.0</td>\n",
       "      <td>...</td>\n",
       "      <td>0.0</td>\n",
       "      <td>0.0</td>\n",
       "      <td>0.0</td>\n",
       "      <td>0.0</td>\n",
       "      <td>0.0</td>\n",
       "      <td>0.0</td>\n",
       "      <td>0.0</td>\n",
       "      <td>0.0</td>\n",
       "      <td>__N__VERS__TE ____RENC__LER__N__N S__BERKONDR_...</td>\n",
       "      <td>[anova, pearson, pearson correlation, t test, ...</td>\n",
       "    </tr>\n",
       "    <tr>\n",
       "      <th>total</th>\n",
       "      <td>4.0</td>\n",
       "      <td>0.0</td>\n",
       "      <td>0.0</td>\n",
       "      <td>0.0</td>\n",
       "      <td>0.0</td>\n",
       "      <td>0.0</td>\n",
       "      <td>0.0</td>\n",
       "      <td>0.0</td>\n",
       "      <td>0.0</td>\n",
       "      <td>0.0</td>\n",
       "      <td>...</td>\n",
       "      <td>0.0</td>\n",
       "      <td>0.0</td>\n",
       "      <td>0.0</td>\n",
       "      <td>0.0</td>\n",
       "      <td>0.0</td>\n",
       "      <td>0.0</td>\n",
       "      <td>0.0</td>\n",
       "      <td>0.0</td>\n",
       "      <td>NaN</td>\n",
       "      <td>NaN</td>\n",
       "    </tr>\n",
       "  </tbody>\n",
       "</table>\n",
       "<p>3 rows × 127 columns</p>\n",
       "</div>"
      ],
      "text/plain": [
       "       anova  ancova  manova  bland-altman  regression analysis  \\\n",
       "0        1.0     0.0     0.0           0.0                  0.0   \n",
       "1        1.0     0.0     0.0           0.0                  0.0   \n",
       "total    4.0     0.0     0.0           0.0                  0.0   \n",
       "\n",
       "       panel data analysis  freeman halton  canonical correlation  chi-square  \\\n",
       "0                      0.0             0.0                    0.0         0.0   \n",
       "1                      0.0             0.0                    0.0         0.0   \n",
       "total                  0.0             0.0                    0.0         0.0   \n",
       "\n",
       "       circular data  ...  python  jamovi  matlab  knime  weka  rapidminer  \\\n",
       "0                0.0  ...     0.0     0.0     0.0    0.0   0.0         0.0   \n",
       "1                0.0  ...     0.0     0.0     0.0    0.0   0.0         0.0   \n",
       "total            0.0  ...     0.0     0.0     0.0    0.0   0.0         0.0   \n",
       "\n",
       "       rapid miner  angoss                                          Dosya Adı  \\\n",
       "0              0.0     0.0                    10.21020-husbfd.1080741-2281530   \n",
       "1              0.0     0.0  __N__VERS__TE ____RENC__LER__N__N S__BERKONDR_...   \n",
       "total          0.0     0.0                                                NaN   \n",
       "\n",
       "                                        Yöntem / Yazılım  \n",
       "0                        [anova, kruskal, pearson, spss]  \n",
       "1      [anova, pearson, pearson correlation, t test, ...  \n",
       "total                                                NaN  \n",
       "\n",
       "[3 rows x 127 columns]"
      ]
     },
     "execution_count": 63,
     "metadata": {},
     "output_type": "execute_result"
    }
   ],
   "source": [
    "df"
   ]
  },
  {
   "cell_type": "code",
   "execution_count": 64,
   "id": "e7a61c93",
   "metadata": {},
   "outputs": [
    {
     "data": {
      "text/html": [
       "<div>\n",
       "<style scoped>\n",
       "    .dataframe tbody tr th:only-of-type {\n",
       "        vertical-align: middle;\n",
       "    }\n",
       "\n",
       "    .dataframe tbody tr th {\n",
       "        vertical-align: top;\n",
       "    }\n",
       "\n",
       "    .dataframe thead th {\n",
       "        text-align: right;\n",
       "    }\n",
       "</style>\n",
       "<table border=\"1\" class=\"dataframe\">\n",
       "  <thead>\n",
       "    <tr style=\"text-align: right;\">\n",
       "      <th></th>\n",
       "      <th>Dosya Adı</th>\n",
       "      <th>Yöntem / Yazılım</th>\n",
       "    </tr>\n",
       "  </thead>\n",
       "  <tbody>\n",
       "    <tr>\n",
       "      <th>0</th>\n",
       "      <td>10.21020-husbfd.1080741-2281530</td>\n",
       "      <td>[anova, kruskal, pearson, spss]</td>\n",
       "    </tr>\n",
       "    <tr>\n",
       "      <th>1</th>\n",
       "      <td>__N__VERS__TE ____RENC__LER__N__N S__BERKONDR_...</td>\n",
       "      <td>[anova, pearson, pearson correlation, t test, ...</td>\n",
       "    </tr>\n",
       "    <tr>\n",
       "      <th>total</th>\n",
       "      <td>NaN</td>\n",
       "      <td>NaN</td>\n",
       "    </tr>\n",
       "  </tbody>\n",
       "</table>\n",
       "</div>"
      ],
      "text/plain": [
       "                                               Dosya Adı  \\\n",
       "0                        10.21020-husbfd.1080741-2281530   \n",
       "1      __N__VERS__TE ____RENC__LER__N__N S__BERKONDR_...   \n",
       "total                                                NaN   \n",
       "\n",
       "                                        Yöntem / Yazılım  \n",
       "0                        [anova, kruskal, pearson, spss]  \n",
       "1      [anova, pearson, pearson correlation, t test, ...  \n",
       "total                                                NaN  "
      ]
     },
     "execution_count": 64,
     "metadata": {},
     "output_type": "execute_result"
    }
   ],
   "source": [
    "df_last2Columns = df[['Dosya Adı','Yöntem / Yazılım']]\n",
    "df_last2Columns"
   ]
  },
  {
   "cell_type": "code",
   "execution_count": 59,
   "id": "8db5f75c",
   "metadata": {
    "scrolled": true
   },
   "outputs": [],
   "source": [
    "df_last2Columns.to_excel('C://Users//ozent//OneDrive//Masaüstü//result.xlsx')"
   ]
  },
  {
   "cell_type": "code",
   "execution_count": 65,
   "id": "d9b96fc9",
   "metadata": {},
   "outputs": [
    {
     "data": {
      "text/html": [
       "<div>\n",
       "<style scoped>\n",
       "    .dataframe tbody tr th:only-of-type {\n",
       "        vertical-align: middle;\n",
       "    }\n",
       "\n",
       "    .dataframe tbody tr th {\n",
       "        vertical-align: top;\n",
       "    }\n",
       "\n",
       "    .dataframe thead th {\n",
       "        text-align: right;\n",
       "    }\n",
       "</style>\n",
       "<table border=\"1\" class=\"dataframe\">\n",
       "  <thead>\n",
       "    <tr style=\"text-align: right;\">\n",
       "      <th></th>\n",
       "      <th>anova</th>\n",
       "      <th>ancova</th>\n",
       "      <th>manova</th>\n",
       "      <th>bland-altman</th>\n",
       "      <th>regression analysis</th>\n",
       "      <th>panel data analysis</th>\n",
       "      <th>freeman halton</th>\n",
       "      <th>canonical correlation</th>\n",
       "      <th>chi-square</th>\n",
       "      <th>circular data</th>\n",
       "      <th>...</th>\n",
       "      <th>python</th>\n",
       "      <th>jamovi</th>\n",
       "      <th>matlab</th>\n",
       "      <th>knime</th>\n",
       "      <th>weka</th>\n",
       "      <th>rapidminer</th>\n",
       "      <th>rapid miner</th>\n",
       "      <th>angoss</th>\n",
       "      <th>Dosya Adı</th>\n",
       "      <th>Yöntem / Yazılım</th>\n",
       "    </tr>\n",
       "  </thead>\n",
       "  <tbody>\n",
       "    <tr>\n",
       "      <th>0</th>\n",
       "      <td>1.0</td>\n",
       "      <td>0.0</td>\n",
       "      <td>0.0</td>\n",
       "      <td>0.0</td>\n",
       "      <td>0.0</td>\n",
       "      <td>0.0</td>\n",
       "      <td>0.0</td>\n",
       "      <td>0.0</td>\n",
       "      <td>0.0</td>\n",
       "      <td>0.0</td>\n",
       "      <td>...</td>\n",
       "      <td>0.0</td>\n",
       "      <td>0.0</td>\n",
       "      <td>0.0</td>\n",
       "      <td>0.0</td>\n",
       "      <td>0.0</td>\n",
       "      <td>0.0</td>\n",
       "      <td>0.0</td>\n",
       "      <td>0.0</td>\n",
       "      <td>10.21020-husbfd.1080741-2281530</td>\n",
       "      <td>[anova, kruskal, pearson, spss]</td>\n",
       "    </tr>\n",
       "    <tr>\n",
       "      <th>1</th>\n",
       "      <td>1.0</td>\n",
       "      <td>0.0</td>\n",
       "      <td>0.0</td>\n",
       "      <td>0.0</td>\n",
       "      <td>0.0</td>\n",
       "      <td>0.0</td>\n",
       "      <td>0.0</td>\n",
       "      <td>0.0</td>\n",
       "      <td>0.0</td>\n",
       "      <td>0.0</td>\n",
       "      <td>...</td>\n",
       "      <td>0.0</td>\n",
       "      <td>0.0</td>\n",
       "      <td>0.0</td>\n",
       "      <td>0.0</td>\n",
       "      <td>0.0</td>\n",
       "      <td>0.0</td>\n",
       "      <td>0.0</td>\n",
       "      <td>0.0</td>\n",
       "      <td>__N__VERS__TE ____RENC__LER__N__N S__BERKONDR_...</td>\n",
       "      <td>[anova, pearson, pearson correlation, t test, ...</td>\n",
       "    </tr>\n",
       "    <tr>\n",
       "      <th>total</th>\n",
       "      <td>6.0</td>\n",
       "      <td>0.0</td>\n",
       "      <td>0.0</td>\n",
       "      <td>0.0</td>\n",
       "      <td>0.0</td>\n",
       "      <td>0.0</td>\n",
       "      <td>0.0</td>\n",
       "      <td>0.0</td>\n",
       "      <td>0.0</td>\n",
       "      <td>0.0</td>\n",
       "      <td>...</td>\n",
       "      <td>0.0</td>\n",
       "      <td>0.0</td>\n",
       "      <td>0.0</td>\n",
       "      <td>0.0</td>\n",
       "      <td>0.0</td>\n",
       "      <td>0.0</td>\n",
       "      <td>0.0</td>\n",
       "      <td>0.0</td>\n",
       "      <td>NaN</td>\n",
       "      <td>NaN</td>\n",
       "    </tr>\n",
       "  </tbody>\n",
       "</table>\n",
       "<p>3 rows × 127 columns</p>\n",
       "</div>"
      ],
      "text/plain": [
       "       anova  ancova  manova  bland-altman  regression analysis  \\\n",
       "0        1.0     0.0     0.0           0.0                  0.0   \n",
       "1        1.0     0.0     0.0           0.0                  0.0   \n",
       "total    6.0     0.0     0.0           0.0                  0.0   \n",
       "\n",
       "       panel data analysis  freeman halton  canonical correlation  chi-square  \\\n",
       "0                      0.0             0.0                    0.0         0.0   \n",
       "1                      0.0             0.0                    0.0         0.0   \n",
       "total                  0.0             0.0                    0.0         0.0   \n",
       "\n",
       "       circular data  ...  python  jamovi  matlab  knime  weka  rapidminer  \\\n",
       "0                0.0  ...     0.0     0.0     0.0    0.0   0.0         0.0   \n",
       "1                0.0  ...     0.0     0.0     0.0    0.0   0.0         0.0   \n",
       "total            0.0  ...     0.0     0.0     0.0    0.0   0.0         0.0   \n",
       "\n",
       "       rapid miner  angoss                                          Dosya Adı  \\\n",
       "0              0.0     0.0                    10.21020-husbfd.1080741-2281530   \n",
       "1              0.0     0.0  __N__VERS__TE ____RENC__LER__N__N S__BERKONDR_...   \n",
       "total          0.0     0.0                                                NaN   \n",
       "\n",
       "                                        Yöntem / Yazılım  \n",
       "0                        [anova, kruskal, pearson, spss]  \n",
       "1      [anova, pearson, pearson correlation, t test, ...  \n",
       "total                                                NaN  \n",
       "\n",
       "[3 rows x 127 columns]"
      ]
     },
     "execution_count": 65,
     "metadata": {},
     "output_type": "execute_result"
    }
   ],
   "source": [
    "df.loc['total'] = df.sum(numeric_only=True, axis=0)\n",
    "df"
   ]
  },
  {
   "cell_type": "code",
   "execution_count": 17,
   "id": "2c2bfa7f",
   "metadata": {
    "scrolled": false
   },
   "outputs": [],
   "source": [
    "df.to_excel('C://Users//ozent//OneDrive//Masaüstü//result1PBpart5.xlsx')"
   ]
  },
  {
   "cell_type": "code",
   "execution_count": 18,
   "id": "0f997497",
   "metadata": {},
   "outputs": [
    {
     "name": "stderr",
     "output_type": "stream",
     "text": [
      "C:\\Users\\ozent\\AppData\\Local\\Temp\\ipykernel_904\\1426905557.py:2: SettingWithCopyWarning: \n",
      "A value is trying to be set on a copy of a slice from a DataFrame\n",
      "\n",
      "See the caveats in the documentation: https://pandas.pydata.org/pandas-docs/stable/user_guide/indexing.html#returning-a-view-versus-a-copy\n",
      "  df_last_row.drop(columns=df_last_row.columns[-2:], axis=1,  inplace=True)\n"
     ]
    }
   ],
   "source": [
    "df_last_row = df.iloc[-1:]\n",
    "df_last_row.drop(columns=df_last_row.columns[-2:], axis=1,  inplace=True)"
   ]
  },
  {
   "cell_type": "code",
   "execution_count": 19,
   "id": "e262177e",
   "metadata": {},
   "outputs": [
    {
     "data": {
      "text/html": [
       "<div>\n",
       "<style scoped>\n",
       "    .dataframe tbody tr th:only-of-type {\n",
       "        vertical-align: middle;\n",
       "    }\n",
       "\n",
       "    .dataframe tbody tr th {\n",
       "        vertical-align: top;\n",
       "    }\n",
       "\n",
       "    .dataframe thead th {\n",
       "        text-align: right;\n",
       "    }\n",
       "</style>\n",
       "<table border=\"1\" class=\"dataframe\">\n",
       "  <thead>\n",
       "    <tr style=\"text-align: right;\">\n",
       "      <th></th>\n",
       "      <th>anova</th>\n",
       "      <th>ancova</th>\n",
       "      <th>manova</th>\n",
       "      <th>bland-altman</th>\n",
       "      <th>bland altman</th>\n",
       "      <th>anderson</th>\n",
       "      <th>anderson-darling</th>\n",
       "      <th>anderson darling</th>\n",
       "      <th>regression analysis</th>\n",
       "      <th>panel data analysis</th>\n",
       "      <th>...</th>\n",
       "      <th>ncss</th>\n",
       "      <th>minitab</th>\n",
       "      <th>python</th>\n",
       "      <th>jamovi</th>\n",
       "      <th>matlab</th>\n",
       "      <th>knime</th>\n",
       "      <th>weka</th>\n",
       "      <th>rapidminer</th>\n",
       "      <th>rapid miner</th>\n",
       "      <th>angoss</th>\n",
       "    </tr>\n",
       "  </thead>\n",
       "  <tbody>\n",
       "    <tr>\n",
       "      <th>total</th>\n",
       "      <td>4.0</td>\n",
       "      <td>1.0</td>\n",
       "      <td>0.0</td>\n",
       "      <td>0.0</td>\n",
       "      <td>0.0</td>\n",
       "      <td>7.0</td>\n",
       "      <td>0.0</td>\n",
       "      <td>0.0</td>\n",
       "      <td>7.0</td>\n",
       "      <td>0.0</td>\n",
       "      <td>...</td>\n",
       "      <td>2.0</td>\n",
       "      <td>0.0</td>\n",
       "      <td>0.0</td>\n",
       "      <td>0.0</td>\n",
       "      <td>0.0</td>\n",
       "      <td>0.0</td>\n",
       "      <td>0.0</td>\n",
       "      <td>0.0</td>\n",
       "      <td>0.0</td>\n",
       "      <td>0.0</td>\n",
       "    </tr>\n",
       "  </tbody>\n",
       "</table>\n",
       "<p>1 rows × 131 columns</p>\n",
       "</div>"
      ],
      "text/plain": [
       "       anova  ancova  manova  bland-altman  bland altman  anderson  \\\n",
       "total    4.0     1.0     0.0           0.0           0.0       7.0   \n",
       "\n",
       "       anderson-darling  anderson darling  regression analysis  \\\n",
       "total               0.0               0.0                  7.0   \n",
       "\n",
       "       panel data analysis  ...  ncss  minitab  python  jamovi  matlab  knime  \\\n",
       "total                  0.0  ...   2.0      0.0     0.0     0.0     0.0    0.0   \n",
       "\n",
       "       weka  rapidminer  rapid miner  angoss  \n",
       "total   0.0         0.0          0.0     0.0  \n",
       "\n",
       "[1 rows x 131 columns]"
      ]
     },
     "execution_count": 19,
     "metadata": {},
     "output_type": "execute_result"
    }
   ],
   "source": [
    "df_last_row"
   ]
  },
  {
   "cell_type": "code",
   "execution_count": 20,
   "id": "2e7101b5",
   "metadata": {},
   "outputs": [],
   "source": [
    "df_last_row.to_excel('C://Users//ozent//OneDrive//Masaüstü//result2PBpart5.xlsx')"
   ]
  },
  {
   "cell_type": "code",
   "execution_count": 4,
   "id": "396b4215",
   "metadata": {
    "scrolled": true
   },
   "outputs": [],
   "source": [
    "dfCloud = pd.read_excel('C://Users//ozent//OneDrive//Masaüstü//PBresult2prog.xlsx')"
   ]
  },
  {
   "cell_type": "code",
   "execution_count": 5,
   "id": "9e76e05c",
   "metadata": {},
   "outputs": [
    {
     "data": {
      "text/html": [
       "<div>\n",
       "<style scoped>\n",
       "    .dataframe tbody tr th:only-of-type {\n",
       "        vertical-align: middle;\n",
       "    }\n",
       "\n",
       "    .dataframe tbody tr th {\n",
       "        vertical-align: top;\n",
       "    }\n",
       "\n",
       "    .dataframe thead th {\n",
       "        text-align: right;\n",
       "    }\n",
       "</style>\n",
       "<table border=\"1\" class=\"dataframe\">\n",
       "  <thead>\n",
       "    <tr style=\"text-align: right;\">\n",
       "      <th></th>\n",
       "      <th>r studio</th>\n",
       "      <th>spss</th>\n",
       "      <th>stata</th>\n",
       "      <th>ncss</th>\n",
       "      <th>minitab</th>\n",
       "      <th>python</th>\n",
       "      <th>jamovi</th>\n",
       "      <th>matlab</th>\n",
       "      <th>knime</th>\n",
       "      <th>weka</th>\n",
       "      <th>rapidminer</th>\n",
       "      <th>rapid miner</th>\n",
       "      <th>angoss</th>\n",
       "    </tr>\n",
       "  </thead>\n",
       "  <tbody>\n",
       "    <tr>\n",
       "      <th>0</th>\n",
       "      <td>3</td>\n",
       "      <td>121</td>\n",
       "      <td>56</td>\n",
       "      <td>5</td>\n",
       "      <td>0</td>\n",
       "      <td>1</td>\n",
       "      <td>1</td>\n",
       "      <td>2</td>\n",
       "      <td>0</td>\n",
       "      <td>0</td>\n",
       "      <td>0</td>\n",
       "      <td>0</td>\n",
       "      <td>0</td>\n",
       "    </tr>\n",
       "  </tbody>\n",
       "</table>\n",
       "</div>"
      ],
      "text/plain": [
       "   r studio  spss  stata  ncss  minitab  python  jamovi  matlab  knime  weka  \\\n",
       "0         3   121     56     5        0       1       1       2      0     0   \n",
       "\n",
       "   rapidminer  rapid miner  angoss  \n",
       "0           0            0       0  "
      ]
     },
     "execution_count": 5,
     "metadata": {},
     "output_type": "execute_result"
    }
   ],
   "source": [
    "dfCloud = dfCloud.drop('Unnamed: 0', axis=1)\n",
    "dfCloud"
   ]
  },
  {
   "cell_type": "code",
   "execution_count": 6,
   "id": "246a733b",
   "metadata": {},
   "outputs": [
    {
     "name": "stdout",
     "output_type": "stream",
     "text": [
      "0    3\n",
      "Name: r studio, dtype: int64\n",
      "0    121\n",
      "Name: spss, dtype: int64\n",
      "0    56\n",
      "Name: stata, dtype: int64\n",
      "0    5\n",
      "Name: ncss, dtype: int64\n",
      "0    0\n",
      "Name: minitab, dtype: int64\n",
      "0    1\n",
      "Name: python, dtype: int64\n",
      "0    1\n",
      "Name: jamovi, dtype: int64\n",
      "0    2\n",
      "Name: matlab, dtype: int64\n",
      "0    0\n",
      "Name: knime, dtype: int64\n",
      "0    0\n",
      "Name: weka, dtype: int64\n",
      "0    0\n",
      "Name: rapidminer, dtype: int64\n",
      "0    0\n",
      "Name: rapid miner, dtype: int64\n",
      "0    0\n",
      "Name: angoss, dtype: int64\n"
     ]
    }
   ],
   "source": [
    "string_values = \"\"\n",
    "\n",
    "for x in dfCloud.columns:\n",
    "    val = dfCloud[x]\n",
    "    print(val)\n",
    "    if(int(val) == 0):\n",
    "        continue\n",
    "    for i in range(int(val)):\n",
    "        string_values = string_values + \",\" + x\n",
    "        #print(string_values)"
   ]
  },
  {
   "cell_type": "code",
   "execution_count": 25,
   "id": "9ad3420e",
   "metadata": {
    "scrolled": true
   },
   "outputs": [],
   "source": [
    "word_cloud = WordCloud(width=900, height=500, collocations=False).generate(string_values)"
   ]
  },
  {
   "cell_type": "code",
   "execution_count": 26,
   "id": "fd3c6c9c",
   "metadata": {},
   "outputs": [
    {
     "data": {
      "image/png": "[encoded data removed]",
      "text/plain": [
       "<PIL.Image.Image image mode=RGB size=900x500>"
      ]
     },
     "execution_count": 26,
     "metadata": {},
     "output_type": "execute_result"
    }
   ],
   "source": [
    "word_cloud.to_image()"
   ]
  },
  {
   "cell_type": "code",
   "execution_count": null,
   "id": "b1a93ccb",
   "metadata": {},
   "outputs": [],
   "source": []
  }
 ],
 "metadata": {
  "kernelspec": {
   "display_name": "Python 3 (ipykernel)",
   "language": "python",
   "name": "python3"
  },
  "language_info": {
   "codemirror_mode": {
    "name": "ipython",
    "version": 3
   },
   "file_extension": ".py",
   "mimetype": "text/x-python",
   "name": "python",
   "nbconvert_exporter": "python",
   "pygments_lexer": "ipython3",
   "version": "3.11.4"
  }
 },
 "nbformat": 4,
 "nbformat_minor": 5
}
